{
 "cells": [
  {
   "cell_type": "code",
   "execution_count": 1,
   "metadata": {},
   "outputs": [],
   "source": [
    "import pandas as pd\n",
    "import numpy as np\n",
    "import scipy.stats as stats\n",
    "from sklearn.model_selection import RandomizedSearchCV\n",
    "from numba import njit"
   ]
  },
  {
   "cell_type": "code",
   "execution_count": 2,
   "metadata": {},
   "outputs": [],
   "source": [
    "# Please see process_L2 in https://github.com/nkaz001/data-tardis/blob/master/tardis-process.ipynb\n",
    "#\n",
    "# x[0] price of a level in the order book\n",
    "# x[1] quantity of a level in the order book\n",
    "#\n",
    "# buy = sum(map(lambda x: x[1], filter(lambda x: x[0] > mid * (1 - p), bid.iteritems())))\n",
    "# sell = sum(map(lambda x: x[1], filter(lambda x: x[0] < mid * (1 + p), ask.iteritems())))\n",
    "# imbalance = standardize(buy - sell, 1-day)\n",
    "# \n",
    "# When not considering skew, this strategy does \n",
    "# Buy if imbalance is greater than a given threshold +T\n",
    "# Sell if imbalance is less than a given threshold -T"
   ]
  },
  {
   "cell_type": "code",
   "execution_count": 3,
   "metadata": {},
   "outputs": [],
   "source": [
    "df = pd.read_pickle('btcusdt_data')\n",
    "df.iloc[:, 7:] = (df.iloc[:, 7:] - df.iloc[:, 7:].rolling('1d').mean()) / df.iloc[:, 7:].rolling('1d').std()  # 1-day rolling"
   ]
  },
  {
   "cell_type": "code",
   "execution_count": 4,
   "metadata": {},
   "outputs": [
    {
     "data": {
      "text/plain": [
       "Index(['open', 'high', 'low', 'close', 'volume', 'best_bid', 'best_ask',\n",
       "       '0.5%', '0.75%', '1%', '1.25%', '1.5%', '1.75%', '2%', '2.5%', '3%',\n",
       "       '3.5%', '4%', '4.5%', '5%'],\n",
       "      dtype='object')"
      ]
     },
     "execution_count": 4,
     "metadata": {},
     "output_type": "execute_result"
    }
   ],
   "source": [
    "df.columns"
   ]
  },
  {
   "cell_type": "code",
   "execution_count": 5,
   "metadata": {},
   "outputs": [
    {
     "data": {
      "text/html": [
       "<div>\n",
       "<style scoped>\n",
       "    .dataframe tbody tr th:only-of-type {\n",
       "        vertical-align: middle;\n",
       "    }\n",
       "\n",
       "    .dataframe tbody tr th {\n",
       "        vertical-align: top;\n",
       "    }\n",
       "\n",
       "    .dataframe thead th {\n",
       "        text-align: right;\n",
       "    }\n",
       "</style>\n",
       "<table border=\"1\" class=\"dataframe\">\n",
       "  <thead>\n",
       "    <tr style=\"text-align: right;\">\n",
       "      <th></th>\n",
       "      <th>open</th>\n",
       "      <th>high</th>\n",
       "      <th>low</th>\n",
       "      <th>close</th>\n",
       "      <th>volume</th>\n",
       "      <th>best_bid</th>\n",
       "      <th>best_ask</th>\n",
       "      <th>0.5%</th>\n",
       "      <th>0.75%</th>\n",
       "      <th>1%</th>\n",
       "      <th>1.25%</th>\n",
       "      <th>1.5%</th>\n",
       "      <th>1.75%</th>\n",
       "      <th>2%</th>\n",
       "      <th>2.5%</th>\n",
       "      <th>3%</th>\n",
       "      <th>3.5%</th>\n",
       "      <th>4%</th>\n",
       "      <th>4.5%</th>\n",
       "      <th>5%</th>\n",
       "    </tr>\n",
       "    <tr>\n",
       "      <th>timestamp</th>\n",
       "      <th></th>\n",
       "      <th></th>\n",
       "      <th></th>\n",
       "      <th></th>\n",
       "      <th></th>\n",
       "      <th></th>\n",
       "      <th></th>\n",
       "      <th></th>\n",
       "      <th></th>\n",
       "      <th></th>\n",
       "      <th></th>\n",
       "      <th></th>\n",
       "      <th></th>\n",
       "      <th></th>\n",
       "      <th></th>\n",
       "      <th></th>\n",
       "      <th></th>\n",
       "      <th></th>\n",
       "      <th></th>\n",
       "      <th></th>\n",
       "    </tr>\n",
       "  </thead>\n",
       "  <tbody>\n",
       "    <tr>\n",
       "      <th>2022-10-31 13:16:45</th>\n",
       "      <td>20736.500000</td>\n",
       "      <td>20739.099609</td>\n",
       "      <td>20736.400391</td>\n",
       "      <td>20739.000000</td>\n",
       "      <td>15.100</td>\n",
       "      <td>20739.0</td>\n",
       "      <td>20739.1</td>\n",
       "      <td>-0.803437</td>\n",
       "      <td>-0.929618</td>\n",
       "      <td>-1.281546</td>\n",
       "      <td>-1.667893</td>\n",
       "      <td>-1.949149</td>\n",
       "      <td>-1.985026</td>\n",
       "      <td>-2.249891</td>\n",
       "      <td>-1.977308</td>\n",
       "      <td>-1.573101</td>\n",
       "      <td>-1.622918</td>\n",
       "      <td>-1.448688</td>\n",
       "      <td>-1.401715</td>\n",
       "      <td>-1.389860</td>\n",
       "    </tr>\n",
       "    <tr>\n",
       "      <th>2022-10-31 13:16:50</th>\n",
       "      <td>20739.099609</td>\n",
       "      <td>20739.900391</td>\n",
       "      <td>20739.000000</td>\n",
       "      <td>20739.900391</td>\n",
       "      <td>9.769</td>\n",
       "      <td>20739.9</td>\n",
       "      <td>20740.0</td>\n",
       "      <td>-0.334200</td>\n",
       "      <td>-0.647167</td>\n",
       "      <td>-0.901171</td>\n",
       "      <td>-1.331945</td>\n",
       "      <td>-1.603475</td>\n",
       "      <td>-1.659619</td>\n",
       "      <td>-1.916282</td>\n",
       "      <td>-1.640854</td>\n",
       "      <td>-1.240940</td>\n",
       "      <td>-1.268814</td>\n",
       "      <td>-1.054426</td>\n",
       "      <td>-0.990239</td>\n",
       "      <td>-0.946776</td>\n",
       "    </tr>\n",
       "    <tr>\n",
       "      <th>2022-10-31 13:16:55</th>\n",
       "      <td>20740.000000</td>\n",
       "      <td>20740.000000</td>\n",
       "      <td>20739.900391</td>\n",
       "      <td>20739.900391</td>\n",
       "      <td>14.707</td>\n",
       "      <td>20739.9</td>\n",
       "      <td>20740.0</td>\n",
       "      <td>-0.791036</td>\n",
       "      <td>-1.073064</td>\n",
       "      <td>-1.328210</td>\n",
       "      <td>-1.727755</td>\n",
       "      <td>-1.949001</td>\n",
       "      <td>-1.993446</td>\n",
       "      <td>-2.242185</td>\n",
       "      <td>-1.958912</td>\n",
       "      <td>-1.562355</td>\n",
       "      <td>-1.630416</td>\n",
       "      <td>-1.439079</td>\n",
       "      <td>-1.380976</td>\n",
       "      <td>-1.367149</td>\n",
       "    </tr>\n",
       "    <tr>\n",
       "      <th>2022-10-31 13:17:00</th>\n",
       "      <td>20740.000000</td>\n",
       "      <td>20740.000000</td>\n",
       "      <td>20739.900391</td>\n",
       "      <td>20740.000000</td>\n",
       "      <td>9.928</td>\n",
       "      <td>20739.9</td>\n",
       "      <td>20740.0</td>\n",
       "      <td>-0.865583</td>\n",
       "      <td>-1.154934</td>\n",
       "      <td>-1.396210</td>\n",
       "      <td>-1.799261</td>\n",
       "      <td>-2.011855</td>\n",
       "      <td>-2.054656</td>\n",
       "      <td>-2.304260</td>\n",
       "      <td>-2.023098</td>\n",
       "      <td>-1.625282</td>\n",
       "      <td>-1.701697</td>\n",
       "      <td>-1.513219</td>\n",
       "      <td>-1.458571</td>\n",
       "      <td>-1.456197</td>\n",
       "    </tr>\n",
       "    <tr>\n",
       "      <th>2022-10-31 13:17:05</th>\n",
       "      <td>20739.900391</td>\n",
       "      <td>20746.300781</td>\n",
       "      <td>20739.900391</td>\n",
       "      <td>20746.300781</td>\n",
       "      <td>88.674</td>\n",
       "      <td>20746.2</td>\n",
       "      <td>20746.3</td>\n",
       "      <td>-1.025416</td>\n",
       "      <td>-1.428711</td>\n",
       "      <td>-1.332806</td>\n",
       "      <td>-1.971693</td>\n",
       "      <td>-1.890583</td>\n",
       "      <td>-1.986763</td>\n",
       "      <td>-2.226419</td>\n",
       "      <td>-1.838751</td>\n",
       "      <td>-1.428760</td>\n",
       "      <td>-1.503939</td>\n",
       "      <td>-1.266015</td>\n",
       "      <td>-1.174078</td>\n",
       "      <td>-1.182989</td>\n",
       "    </tr>\n",
       "    <tr>\n",
       "      <th>...</th>\n",
       "      <td>...</td>\n",
       "      <td>...</td>\n",
       "      <td>...</td>\n",
       "      <td>...</td>\n",
       "      <td>...</td>\n",
       "      <td>...</td>\n",
       "      <td>...</td>\n",
       "      <td>...</td>\n",
       "      <td>...</td>\n",
       "      <td>...</td>\n",
       "      <td>...</td>\n",
       "      <td>...</td>\n",
       "      <td>...</td>\n",
       "      <td>...</td>\n",
       "      <td>...</td>\n",
       "      <td>...</td>\n",
       "      <td>...</td>\n",
       "      <td>...</td>\n",
       "      <td>...</td>\n",
       "      <td>...</td>\n",
       "    </tr>\n",
       "    <tr>\n",
       "      <th>2022-11-01 23:59:40</th>\n",
       "      <td>20473.300781</td>\n",
       "      <td>20473.400391</td>\n",
       "      <td>20473.300781</td>\n",
       "      <td>20473.300781</td>\n",
       "      <td>0.439</td>\n",
       "      <td>20473.3</td>\n",
       "      <td>20473.4</td>\n",
       "      <td>-0.925752</td>\n",
       "      <td>-0.897669</td>\n",
       "      <td>-0.644238</td>\n",
       "      <td>-0.364079</td>\n",
       "      <td>-0.168275</td>\n",
       "      <td>-0.398910</td>\n",
       "      <td>-0.177484</td>\n",
       "      <td>-0.162961</td>\n",
       "      <td>-0.326708</td>\n",
       "      <td>-0.230246</td>\n",
       "      <td>-0.155675</td>\n",
       "      <td>0.080018</td>\n",
       "      <td>0.133456</td>\n",
       "    </tr>\n",
       "    <tr>\n",
       "      <th>2022-11-01 23:59:45</th>\n",
       "      <td>20473.300781</td>\n",
       "      <td>20473.400391</td>\n",
       "      <td>20473.300781</td>\n",
       "      <td>20473.300781</td>\n",
       "      <td>0.302</td>\n",
       "      <td>20473.3</td>\n",
       "      <td>20473.4</td>\n",
       "      <td>-0.948462</td>\n",
       "      <td>-0.915940</td>\n",
       "      <td>-0.660320</td>\n",
       "      <td>-0.376644</td>\n",
       "      <td>-0.183352</td>\n",
       "      <td>-0.406231</td>\n",
       "      <td>-0.183918</td>\n",
       "      <td>-0.163414</td>\n",
       "      <td>-0.331896</td>\n",
       "      <td>-0.236239</td>\n",
       "      <td>-0.162136</td>\n",
       "      <td>0.074427</td>\n",
       "      <td>0.126972</td>\n",
       "    </tr>\n",
       "    <tr>\n",
       "      <th>2022-11-01 23:59:50</th>\n",
       "      <td>20473.300781</td>\n",
       "      <td>20473.400391</td>\n",
       "      <td>20470.000000</td>\n",
       "      <td>20470.000000</td>\n",
       "      <td>8.720</td>\n",
       "      <td>20470.0</td>\n",
       "      <td>20470.1</td>\n",
       "      <td>0.187537</td>\n",
       "      <td>-0.623834</td>\n",
       "      <td>-0.484948</td>\n",
       "      <td>-0.247327</td>\n",
       "      <td>0.022619</td>\n",
       "      <td>-0.195083</td>\n",
       "      <td>-0.033710</td>\n",
       "      <td>-0.047477</td>\n",
       "      <td>-0.175661</td>\n",
       "      <td>-0.122502</td>\n",
       "      <td>-0.051494</td>\n",
       "      <td>0.220273</td>\n",
       "      <td>0.210175</td>\n",
       "    </tr>\n",
       "    <tr>\n",
       "      <th>2022-11-01 23:59:55</th>\n",
       "      <td>20470.000000</td>\n",
       "      <td>20470.099609</td>\n",
       "      <td>20470.000000</td>\n",
       "      <td>20470.099609</td>\n",
       "      <td>11.451</td>\n",
       "      <td>20470.0</td>\n",
       "      <td>20470.1</td>\n",
       "      <td>0.147949</td>\n",
       "      <td>-0.655458</td>\n",
       "      <td>-0.511957</td>\n",
       "      <td>-0.270197</td>\n",
       "      <td>0.002170</td>\n",
       "      <td>-0.212887</td>\n",
       "      <td>-0.049250</td>\n",
       "      <td>-0.054568</td>\n",
       "      <td>-0.184810</td>\n",
       "      <td>-0.133091</td>\n",
       "      <td>-0.062423</td>\n",
       "      <td>0.210815</td>\n",
       "      <td>0.174711</td>\n",
       "    </tr>\n",
       "    <tr>\n",
       "      <th>2022-11-02 00:00:00</th>\n",
       "      <td>20470.000000</td>\n",
       "      <td>20472.199219</td>\n",
       "      <td>20470.000000</td>\n",
       "      <td>20472.099609</td>\n",
       "      <td>10.213</td>\n",
       "      <td>20472.1</td>\n",
       "      <td>20472.2</td>\n",
       "      <td>0.213169</td>\n",
       "      <td>-0.693305</td>\n",
       "      <td>-0.427819</td>\n",
       "      <td>-0.194274</td>\n",
       "      <td>0.049984</td>\n",
       "      <td>-0.241643</td>\n",
       "      <td>-0.029834</td>\n",
       "      <td>0.000457</td>\n",
       "      <td>-0.111246</td>\n",
       "      <td>-0.037805</td>\n",
       "      <td>0.042968</td>\n",
       "      <td>0.251639</td>\n",
       "      <td>0.325740</td>\n",
       "    </tr>\n",
       "  </tbody>\n",
       "</table>\n",
       "<p>25000 rows × 20 columns</p>\n",
       "</div>"
      ],
      "text/plain": [
       "                             open          high           low         close  \\\n",
       "timestamp                                                                     \n",
       "2022-10-31 13:16:45  20736.500000  20739.099609  20736.400391  20739.000000   \n",
       "2022-10-31 13:16:50  20739.099609  20739.900391  20739.000000  20739.900391   \n",
       "2022-10-31 13:16:55  20740.000000  20740.000000  20739.900391  20739.900391   \n",
       "2022-10-31 13:17:00  20740.000000  20740.000000  20739.900391  20740.000000   \n",
       "2022-10-31 13:17:05  20739.900391  20746.300781  20739.900391  20746.300781   \n",
       "...                           ...           ...           ...           ...   \n",
       "2022-11-01 23:59:40  20473.300781  20473.400391  20473.300781  20473.300781   \n",
       "2022-11-01 23:59:45  20473.300781  20473.400391  20473.300781  20473.300781   \n",
       "2022-11-01 23:59:50  20473.300781  20473.400391  20470.000000  20470.000000   \n",
       "2022-11-01 23:59:55  20470.000000  20470.099609  20470.000000  20470.099609   \n",
       "2022-11-02 00:00:00  20470.000000  20472.199219  20470.000000  20472.099609   \n",
       "\n",
       "                     volume  best_bid  best_ask      0.5%     0.75%        1%  \\\n",
       "timestamp                                                                       \n",
       "2022-10-31 13:16:45  15.100   20739.0   20739.1 -0.803437 -0.929618 -1.281546   \n",
       "2022-10-31 13:16:50   9.769   20739.9   20740.0 -0.334200 -0.647167 -0.901171   \n",
       "2022-10-31 13:16:55  14.707   20739.9   20740.0 -0.791036 -1.073064 -1.328210   \n",
       "2022-10-31 13:17:00   9.928   20739.9   20740.0 -0.865583 -1.154934 -1.396210   \n",
       "2022-10-31 13:17:05  88.674   20746.2   20746.3 -1.025416 -1.428711 -1.332806   \n",
       "...                     ...       ...       ...       ...       ...       ...   \n",
       "2022-11-01 23:59:40   0.439   20473.3   20473.4 -0.925752 -0.897669 -0.644238   \n",
       "2022-11-01 23:59:45   0.302   20473.3   20473.4 -0.948462 -0.915940 -0.660320   \n",
       "2022-11-01 23:59:50   8.720   20470.0   20470.1  0.187537 -0.623834 -0.484948   \n",
       "2022-11-01 23:59:55  11.451   20470.0   20470.1  0.147949 -0.655458 -0.511957   \n",
       "2022-11-02 00:00:00  10.213   20472.1   20472.2  0.213169 -0.693305 -0.427819   \n",
       "\n",
       "                        1.25%      1.5%     1.75%        2%      2.5%  \\\n",
       "timestamp                                                               \n",
       "2022-10-31 13:16:45 -1.667893 -1.949149 -1.985026 -2.249891 -1.977308   \n",
       "2022-10-31 13:16:50 -1.331945 -1.603475 -1.659619 -1.916282 -1.640854   \n",
       "2022-10-31 13:16:55 -1.727755 -1.949001 -1.993446 -2.242185 -1.958912   \n",
       "2022-10-31 13:17:00 -1.799261 -2.011855 -2.054656 -2.304260 -2.023098   \n",
       "2022-10-31 13:17:05 -1.971693 -1.890583 -1.986763 -2.226419 -1.838751   \n",
       "...                       ...       ...       ...       ...       ...   \n",
       "2022-11-01 23:59:40 -0.364079 -0.168275 -0.398910 -0.177484 -0.162961   \n",
       "2022-11-01 23:59:45 -0.376644 -0.183352 -0.406231 -0.183918 -0.163414   \n",
       "2022-11-01 23:59:50 -0.247327  0.022619 -0.195083 -0.033710 -0.047477   \n",
       "2022-11-01 23:59:55 -0.270197  0.002170 -0.212887 -0.049250 -0.054568   \n",
       "2022-11-02 00:00:00 -0.194274  0.049984 -0.241643 -0.029834  0.000457   \n",
       "\n",
       "                           3%      3.5%        4%      4.5%        5%  \n",
       "timestamp                                                              \n",
       "2022-10-31 13:16:45 -1.573101 -1.622918 -1.448688 -1.401715 -1.389860  \n",
       "2022-10-31 13:16:50 -1.240940 -1.268814 -1.054426 -0.990239 -0.946776  \n",
       "2022-10-31 13:16:55 -1.562355 -1.630416 -1.439079 -1.380976 -1.367149  \n",
       "2022-10-31 13:17:00 -1.625282 -1.701697 -1.513219 -1.458571 -1.456197  \n",
       "2022-10-31 13:17:05 -1.428760 -1.503939 -1.266015 -1.174078 -1.182989  \n",
       "...                       ...       ...       ...       ...       ...  \n",
       "2022-11-01 23:59:40 -0.326708 -0.230246 -0.155675  0.080018  0.133456  \n",
       "2022-11-01 23:59:45 -0.331896 -0.236239 -0.162136  0.074427  0.126972  \n",
       "2022-11-01 23:59:50 -0.175661 -0.122502 -0.051494  0.220273  0.210175  \n",
       "2022-11-01 23:59:55 -0.184810 -0.133091 -0.062423  0.210815  0.174711  \n",
       "2022-11-02 00:00:00 -0.111246 -0.037805  0.042968  0.251639  0.325740  \n",
       "\n",
       "[25000 rows x 20 columns]"
      ]
     },
     "execution_count": 5,
     "metadata": {},
     "output_type": "execute_result"
    }
   ],
   "source": [
    "df.iloc[-25000:]"
   ]
  },
  {
   "cell_type": "code",
   "execution_count": 6,
   "metadata": {},
   "outputs": [],
   "source": [
    "@njit\n",
    "def predict_njit(fee_, A, B, half_spread, max_position, X, imbalance):\n",
    "    tick_size = 0.01\n",
    "    running_qty = 0\n",
    "    static_equity = 0\n",
    "    fee = 0\n",
    "    equity = []\n",
    "    running_qty_ = []\n",
    "    order_qty = 10000\n",
    "    order_qty_btc = 0\n",
    "    new_bid = np.nan\n",
    "    new_ask = np.nan\n",
    "    high = 1\n",
    "    low = 2\n",
    "    close = 3\n",
    "    volume = 4\n",
    "    best_bid = 5\n",
    "    best_ask = 6\n",
    "    for row in X:\n",
    "        # Check if the orders are filled:\n",
    "        # the bid order is considered filled if a trade happened below the order price.\n",
    "        # the ask order is considered filled if a trade happened above the order price.\n",
    "        # \n",
    "        #if np.isfinite(new_bid) \\\n",
    "        #    and (int(round(new_bid / tick_size)) < int(round(row[low] / tick_size)) or int(round(new_bid / tick_size) >= row[best_ask])) \\\n",
    "        #    and row[volume] > 0:\n",
    "        if np.isfinite(new_bid) \\\n",
    "            and int(round(new_bid / tick_size)) > int(round(row[low] / tick_size)) \\\n",
    "            and row[volume] > 0:\n",
    "            running_qty += order_qty_btc\n",
    "            static_equity -= order_qty_btc * new_bid\n",
    "            fee += order_qty_btc * new_bid * fee_    \n",
    "        #if np.isfinite(new_ask) \\\n",
    "        #    and (int(round(new_ask / tick_size)) < int(round(row[high] / tick_size)) or int(round(new_ask / tick_size) <= row[best_bid])) \\\n",
    "        #    and row[volume] > 0:\n",
    "        if np.isfinite(new_ask) \\\n",
    "            and int(round(new_ask / tick_size)) < int(round(row[high] / tick_size)) \\\n",
    "            and row[volume] > 0:\n",
    "            running_qty -= order_qty_btc\n",
    "            static_equity += order_qty_btc * new_ask\n",
    "            fee += order_qty_btc * new_ask * fee_\n",
    "        equity.append(static_equity + running_qty * row[close] - fee)\n",
    "        running_qty_.append(running_qty)\n",
    "        x = running_qty * row[close] # in $\n",
    "        skew = B * x / max_position * -1\n",
    "        quote_mid_price = row[close] + A * row[imbalance] + skew\n",
    "        # Limit the price of orders to best bid/ask in order not to take liquidity. (Due to fee)\n",
    "        new_bid = np.minimum(np.minimum(np.round(quote_mid_price * (1 - half_spread) / tick_size) * tick_size, row[close] - tick_size), row[best_bid])\n",
    "        new_ask = np.maximum(np.maximum(np.round(quote_mid_price * (1 + half_spread) / tick_size) * tick_size, row[close] + tick_size), row[best_ask])\n",
    "        order_qty_btc = np.maximum(np.round(order_qty / row[close], 3), 0.001)\n",
    "        # The maximum position size is fixed in Dollar.\n",
    "        if x > max_position:\n",
    "            new_bid = np.nan\n",
    "        if x < -max_position:\n",
    "            new_ask = np.nan\n",
    "    return equity, running_qty_\n",
    "\n",
    "class Backtest:\n",
    "    def __init__(self, fee=None, max_position=None, A=None, B=None, half_spread=None, imbalance=None):\n",
    "        self.fee = fee\n",
    "        self.max_position = max_position\n",
    "        self.A = A\n",
    "        self.B = B\n",
    "        self.half_spread = half_spread\n",
    "        self.imbalance = imbalance\n",
    "        \n",
    "    def set_params(self, A, B, half_spread, imbalance):\n",
    "        self.A = A\n",
    "        self.B = B\n",
    "        self.half_spread = half_spread\n",
    "        self.imbalance = imbalance\n",
    "        return self\n",
    "        \n",
    "    def get_params(self, deep=True):\n",
    "        return { 'fee': self.fee, 'max_position': self.max_position, 'A': self.A, 'B': self.B, 'half_spread': self.half_spread, 'imbalance': self.imbalance }\n",
    "        \n",
    "    def fit(self, X, y=None):\n",
    "        return self\n",
    "    \n",
    "    def predict(self, X):\n",
    "        equity, running_qty = predict_njit(self.fee, self.A, self.B, self.half_spread, self.max_position, X, self.imbalance)\n",
    "        return equity, running_qty\n",
    "    \n",
    "    def score(self, X):\n",
    "        equity, _ = self.predict(X)\n",
    "        returns = (pd.Series(equity).diff() / self.max_position).fillna(0)\n",
    "#         bm_returns = pd.Series(X[:, 3]).pct_change().fillna(0)\n",
    "#         returns_ = returns - bm_returns\n",
    "        return np.divide(returns.mean(), returns.std())"
   ]
  },
  {
   "cell_type": "code",
   "execution_count": 7,
   "metadata": {},
   "outputs": [],
   "source": [
    "train = df[(df.index >= '2021-1-1') & (df.index < '2022-1-1')]\n",
    "valid = df[df.index < '2021-1-1']"
   ]
  },
  {
   "cell_type": "code",
   "execution_count": 8,
   "metadata": {},
   "outputs": [
    {
     "name": "stdout",
     "output_type": "stream",
     "text": [
      "Fitting 1 folds for each of 1000 candidates, totalling 1000 fits\n"
     ]
    },
    {
     "data": {
      "text/plain": [
       "RandomizedSearchCV(cv=[(array([      0,       1,       2, ..., 6307209, 6307210, 6307211]),\n",
       "                        array([      0,       1,       2, ..., 6307209, 6307210, 6307211]))],\n",
       "                   estimator=<__main__.Backtest object at 0x7fc57b8b9390>,\n",
       "                   n_iter=1000, n_jobs=8,\n",
       "                   param_distributions={'A': <scipy.stats._distn_infrastructure.rv_frozen object at 0x7fc57b8b9050>,\n",
       "                                        'B': <scipy.stats._distn_infrastructure.rv_frozen object at 0x7fc57b90e0d0>,\n",
       "                                        'half_spread': <scipy.stats._distn_infrastructure.rv_frozen object at 0x7fc57b90e390>,\n",
       "                                        'imbalance': array([ 7,  8,  9, 10, 11, 12, 13, 14, 15, 16, 17, 18])},\n",
       "                   verbose=1)"
      ]
     },
     "execution_count": 8,
     "metadata": {},
     "output_type": "execute_result"
    }
   ],
   "source": [
    "param_dist = { 'A': stats.uniform(1, 100), 'B': stats.uniform(1, 100), 'half_spread': stats.uniform(0, 0.001), 'imbalance': np.arange(7, 19) }\n",
    "search = RandomizedSearchCV(Backtest(0.0002, 1000000),\n",
    "                            cv=[(np.arange(len(train)), np.arange(len(train)))],\n",
    "                            param_distributions=param_dist,\n",
    "                            verbose=1,\n",
    "                            n_iter=1000,\n",
    "                            n_jobs=8)\n",
    "search.fit(train.values)"
   ]
  },
  {
   "cell_type": "code",
   "execution_count": 9,
   "metadata": {},
   "outputs": [
    {
     "data": {
      "text/plain": [
       "<__main__.Backtest at 0x7fc57b8ab9d0>"
      ]
     },
     "execution_count": 9,
     "metadata": {},
     "output_type": "execute_result"
    }
   ],
   "source": [
    "# v2.4 params. Feb. 15, 2022\n",
    "search.best_params_ = {\n",
    "    'A': 34.79953363189946,\n",
    "    'B': 81.73462819589255,\n",
    "    'half_spread': 0.000987752995703277,\n",
    "    'imbalance': 12\n",
    "}\n",
    "search.best_estimator_.set_params(**search.best_params_)"
   ]
  },
  {
   "cell_type": "code",
   "execution_count": 10,
   "metadata": {},
   "outputs": [
    {
     "data": {
      "text/plain": [
       "{'A': 34.79953363189946,\n",
       " 'B': 81.73462819589255,\n",
       " 'half_spread': 0.000987752995703277,\n",
       " 'imbalance': 12}"
      ]
     },
     "execution_count": 10,
     "metadata": {},
     "output_type": "execute_result"
    }
   ],
   "source": [
    "search.best_params_"
   ]
  },
  {
   "cell_type": "code",
   "execution_count": 11,
   "metadata": {},
   "outputs": [
    {
     "data": {
      "text/plain": [
       "0.001288157730664235"
      ]
     },
     "execution_count": 11,
     "metadata": {},
     "output_type": "execute_result"
    }
   ],
   "source": [
    "search.best_estimator_.score(train.values)"
   ]
  },
  {
   "cell_type": "code",
   "execution_count": 12,
   "metadata": {},
   "outputs": [],
   "source": [
    "equity, running_qty = search.best_estimator_.predict(train.values)\n",
    "equity = pd.Series(equity, index=train.index)\n",
    "running_qty = pd.Series(running_qty, index=train.index)"
   ]
  },
  {
   "cell_type": "code",
   "execution_count": 13,
   "metadata": {},
   "outputs": [
    {
     "data": {
      "text/plain": [
       "<AxesSubplot:xlabel='timestamp'>"
      ]
     },
     "execution_count": 13,
     "metadata": {},
     "output_type": "execute_result"
    },
    {
     "data": {
      "image/png": "[encoded data removed]",
      "text/plain": [
       "<Figure size 432x288 with 1 Axes>"
      ]
     },
     "metadata": {
      "needs_background": "light"
     },
     "output_type": "display_data"
    }
   ],
   "source": [
    "equity.plot()"
   ]
  },
  {
   "cell_type": "code",
   "execution_count": 14,
   "metadata": {},
   "outputs": [
    {
     "data": {
      "text/plain": [
       "<AxesSubplot:xlabel='timestamp'>"
      ]
     },
     "execution_count": 14,
     "metadata": {},
     "output_type": "execute_result"
    },
    {
     "data": {
      "image/png": "[encoded data removed]",
      "text/plain": [
       "<Figure size 432x288 with 1 Axes>"
      ]
     },
     "metadata": {
      "needs_background": "light"
     },
     "output_type": "display_data"
    }
   ],
   "source": [
    "train['close'].plot()"
   ]
  },
  {
   "cell_type": "code",
   "execution_count": 15,
   "metadata": {},
   "outputs": [
    {
     "data": {
      "text/plain": [
       "<AxesSubplot:xlabel='timestamp'>"
      ]
     },
     "execution_count": 15,
     "metadata": {},
     "output_type": "execute_result"
    },
    {
     "data": {
      "image/png": "[encoded data removed]",
      "text/plain": [
       "<Figure size 432x288 with 1 Axes>"
      ]
     },
     "metadata": {
      "needs_background": "light"
     },
     "output_type": "display_data"
    }
   ],
   "source": [
    "running_qty.plot()"
   ]
  },
  {
   "cell_type": "code",
   "execution_count": 16,
   "metadata": {},
   "outputs": [],
   "source": [
    "def calc_cagr(begin, final, years):\n",
    "    if final < 0:\n",
    "        return (-1) * (((abs(final) + 2 * begin) / begin) ** (1 / years) - 1)\n",
    "    else:\n",
    "        return (final / begin) ** (1 / years) - 1"
   ]
  },
  {
   "cell_type": "code",
   "execution_count": 17,
   "metadata": {},
   "outputs": [
    {
     "name": "stdout",
     "output_type": "stream",
     "text": [
      "Start date            2021-01-01\n",
      "End date              2021-12-31\n",
      "Time period (days)           364\n",
      "Sharpe Ratio            4.049701\n",
      "CAGR                    1.411501\n",
      "Max Daily Drawdown      0.147993\n",
      "dtype: object\n"
     ]
    },
    {
     "data": {
      "text/plain": [
       "<AxesSubplot:>"
      ]
     },
     "execution_count": 17,
     "metadata": {},
     "output_type": "execute_result"
    },
    {
     "data": {
      "image/png": "[encoded data removed]",
      "text/plain": [
       "<Figure size 432x288 with 1 Axes>"
      ]
     },
     "metadata": {
      "needs_background": "light"
     },
     "output_type": "display_data"
    }
   ],
   "source": [
    "returns = equity.resample('1d').last().diff() / search.best_estimator_.max_position\n",
    "# bm_returns = train['close'].resample('1d').last().pct_change()\n",
    "# returns_ = returns - bm_returns\n",
    "returns_ = returns\n",
    "sr = np.divide(returns_.mean(), returns_.std()) * np.sqrt(365)\n",
    "\n",
    "equity_1d = equity.resample('1d').last()\n",
    "Roll_Max = equity_1d.cummax()\n",
    "Daily_Drawdown = (equity_1d - Roll_Max) / search.best_estimator_.max_position\n",
    "Max_Daily_Drawdown = Daily_Drawdown.cummin()\n",
    "\n",
    "period = (equity.index[-1] - equity.index[0]).days\n",
    "\n",
    "print(pd.Series({\n",
    "    'Start date': equity.index[0].strftime('%Y-%m-%d'),\n",
    "    'End date': equity.index[-1].strftime('%Y-%m-%d'),\n",
    "    'Time period (days)': period,\n",
    "    'Sharpe Ratio': sr,\n",
    "    'CAGR': calc_cagr(search.best_estimator_.max_position, search.best_estimator_.max_position + equity[-1], period / 365),\n",
    "    'Max Daily Drawdown': -Max_Daily_Drawdown.min(),\n",
    "}))\n",
    "\n",
    "returns.hist(bins=20)"
   ]
  },
  {
   "cell_type": "code",
   "execution_count": 18,
   "metadata": {},
   "outputs": [
    {
     "name": "stdout",
     "output_type": "stream",
     "text": [
      "Start date                         2020-06-03\n",
      "End date                           2022-11-02\n",
      "Time period (days)                        881\n",
      "Train period          2021-01-01 - 2021-12-31\n",
      "Valid period          2020-06-03 - 2020-12-31\n",
      "Sharpe ratio                          2.13302\n",
      "CAGR                                 0.474888\n",
      "RRR                                  1.214224\n",
      "Maximum drawdown                     0.391104\n",
      "dtype: object\n"
     ]
    },
    {
     "data": {
      "image/png": "[encoded data removed]",
      "text/plain": [
       "<Figure size 576x576 with 1 Axes>"
      ]
     },
     "metadata": {
      "needs_background": "light"
     },
     "output_type": "display_data"
    }
   ],
   "source": [
    "equity, running_qty = search.best_estimator_.predict(df.values)\n",
    "equity = pd.Series(equity, index=df.index)\n",
    "running_qty = pd.Series(running_qty, index=df.index)\n",
    "\n",
    "\n",
    "returns = equity.resample('1d').last().diff() / search.best_estimator_.max_position\n",
    "#bm_returns = valid['close'].resample('1d').last().pct_change()\n",
    "#returns_ = returns - bm_returns\n",
    "returns_ = returns\n",
    "sr = np.divide(returns_.mean(), returns_.std()) * np.sqrt(365)\n",
    "\n",
    "equity_1d = equity.resample('1d').last()\n",
    "Roll_Max = equity_1d.cummax()\n",
    "Daily_Drawdown = (equity_1d - Roll_Max) / search.best_estimator_.max_position\n",
    "Max_Daily_Drawdown = Daily_Drawdown.cummin()\n",
    "\n",
    "period = (equity.index[-1] - equity.index[0]).days\n",
    "\n",
    "print(pd.Series({\n",
    "    'Start date': equity.index[0].strftime('%Y-%m-%d'),\n",
    "    'End date': equity.index[-1].strftime('%Y-%m-%d'),\n",
    "    'Time period (days)': period,\n",
    "    'Train period': '%s - %s' % (train.index[0].strftime('%Y-%m-%d'), train.index[-1].strftime('%Y-%m-%d')),\n",
    "    'Valid period': '%s - %s' % (valid.index[0].strftime('%Y-%m-%d'), valid.index[-1].strftime('%Y-%m-%d')),\n",
    "    'Sharpe ratio': sr,\n",
    "    'CAGR': calc_cagr(search.best_estimator_.max_position, search.best_estimator_.max_position + equity[-1], period / 365),\n",
    "    'RRR': calc_cagr(search.best_estimator_.max_position, search.best_estimator_.max_position + equity[-1], period / 365) / -Max_Daily_Drawdown.min(),\n",
    "    'Maximum drawdown': -Max_Daily_Drawdown.min(),\n",
    "}))\n",
    "\n",
    "# equity.resample('1d').last().pct_change().hist(bins=20)\n",
    "\n",
    "import matplotlib.pyplot as plt\n",
    "plt.figure(figsize=(8, 8))\n",
    "ax1 = (equity / search.best_estimator_.max_position * 100).plot()\n",
    "ax2 = ((df['close'] / df['close'][0] - 1) * 100).plot()\n",
    "ax1.set_ylabel('Cumulative Returns (%)')\n",
    "ax1.legend([\"Strategy's equity (VIP0 maker fee)\", 'Binance Futures BTCUSDT'])\n",
    "ax1.grid()"
   ]
  },
  {
   "cell_type": "code",
   "execution_count": 19,
   "metadata": {},
   "outputs": [
    {
     "data": {
      "text/plain": [
       "<AxesSubplot:xlabel='timestamp'>"
      ]
     },
     "execution_count": 19,
     "metadata": {},
     "output_type": "execute_result"
    },
    {
     "data": {
      "image/png": "[encoded data removed]",
      "text/plain": [
       "<Figure size 432x288 with 1 Axes>"
      ]
     },
     "metadata": {
      "needs_background": "light"
     },
     "output_type": "display_data"
    }
   ],
   "source": [
    "Daily_Drawdown.plot()"
   ]
  },
  {
   "cell_type": "code",
   "execution_count": 20,
   "metadata": {},
   "outputs": [
    {
     "data": {
      "text/plain": [
       "<AxesSubplot:xlabel='timestamp'>"
      ]
     },
     "execution_count": 20,
     "metadata": {},
     "output_type": "execute_result"
    },
    {
     "data": {
      "image/png": "[encoded data removed]",
      "text/plain": [
       "<Figure size 432x288 with 1 Axes>"
      ]
     },
     "metadata": {
      "needs_background": "light"
     },
     "output_type": "display_data"
    }
   ],
   "source": [
    "(equity / search.best_estimator_.max_position).plot()"
   ]
  },
  {
   "cell_type": "code",
   "execution_count": 21,
   "metadata": {},
   "outputs": [],
   "source": [
    "equity.to_pickle(\"btcusdt-marketmaking-vip0\")"
   ]
  },
  {
   "cell_type": "code",
   "execution_count": 22,
   "metadata": {},
   "outputs": [],
   "source": [
    "# v2.4 params. Feb. 15, 2022\n",
    "search.best_params_ = {\n",
    "    'A': 27.523717761230337,\n",
    "    'B': 73.23408011910584,\n",
    "    'half_spread': 0.0009954163968328592,\n",
    "    'imbalance': 12\n",
    "}\n",
    "search.best_estimator_.set_params(**search.best_params_)\n",
    "search.best_estimator_.fee = 0"
   ]
  },
  {
   "cell_type": "code",
   "execution_count": 23,
   "metadata": {},
   "outputs": [
    {
     "name": "stdout",
     "output_type": "stream",
     "text": [
      "Start date                         2020-06-03\n",
      "End date                           2022-11-02\n",
      "Time period (days)                        881\n",
      "Train period          2021-01-01 - 2021-12-31\n",
      "Valid period          2020-06-03 - 2020-12-31\n",
      "Sharpe ratio                         6.393669\n",
      "CAGR                                 0.992829\n",
      "RRR                                 12.841118\n",
      "Maximum drawdown                     0.077316\n",
      "dtype: object\n"
     ]
    },
    {
     "data": {
      "image/png": "[encoded data removed]",
      "text/plain": [
       "<Figure size 576x576 with 1 Axes>"
      ]
     },
     "metadata": {
      "needs_background": "light"
     },
     "output_type": "display_data"
    }
   ],
   "source": [
    "equity, running_qty = search.best_estimator_.predict(df.values)\n",
    "equity = pd.Series(equity, index=df.index)\n",
    "running_qty = pd.Series(running_qty, index=df.index)\n",
    "\n",
    "\n",
    "returns = equity.resample('1d').last().diff() / search.best_estimator_.max_position\n",
    "#bm_returns = valid['close'].resample('1d').last().pct_change()\n",
    "#returns_ = returns - bm_returns\n",
    "returns_ = returns\n",
    "sr = np.divide(returns_.mean(), returns_.std()) * np.sqrt(365)\n",
    "\n",
    "equity_1d = equity.resample('1d').last()\n",
    "Roll_Max = equity_1d.cummax()\n",
    "Daily_Drawdown = (equity_1d - Roll_Max) / search.best_estimator_.max_position\n",
    "Max_Daily_Drawdown = Daily_Drawdown.cummin()\n",
    "\n",
    "period = (equity.index[-1] - equity.index[0]).days\n",
    "\n",
    "print(pd.Series({\n",
    "    'Start date': equity.index[0].strftime('%Y-%m-%d'),\n",
    "    'End date': equity.index[-1].strftime('%Y-%m-%d'),\n",
    "    'Time period (days)': period,\n",
    "    'Train period': '%s - %s' % (train.index[0].strftime('%Y-%m-%d'), train.index[-1].strftime('%Y-%m-%d')),\n",
    "    'Valid period': '%s - %s' % (valid.index[0].strftime('%Y-%m-%d'), valid.index[-1].strftime('%Y-%m-%d')),\n",
    "    'Sharpe ratio': sr,\n",
    "    'CAGR': calc_cagr(search.best_estimator_.max_position, search.best_estimator_.max_position + equity[-1], period / 365),\n",
    "    'RRR': calc_cagr(search.best_estimator_.max_position, search.best_estimator_.max_position + equity[-1], period / 365) / -Max_Daily_Drawdown.min(),\n",
    "    'Maximum drawdown': -Max_Daily_Drawdown.min(),\n",
    "}))\n",
    "\n",
    "# equity.resample('1d').last().pct_change().hist(bins=20)\n",
    "\n",
    "import matplotlib.pyplot as plt\n",
    "plt.figure(figsize=(8, 8))\n",
    "ax1 = (equity / search.best_estimator_.max_position * 100).plot()\n",
    "ax2 = ((df['close'] / df['close'][0] - 1) * 100).plot()\n",
    "ax1.set_ylabel('Cumulative Returns (%)')\n",
    "ax1.legend([\"Strategy's equity (VIP9 maker fee)\", 'Binance Futures BTCUSDT'])\n",
    "ax1.grid()"
   ]
  },
  {
   "cell_type": "code",
   "execution_count": 24,
   "metadata": {},
   "outputs": [],
   "source": [
    "equity.to_pickle(\"btcusdt-marketmaking-vip9\")"
   ]
  }
 ],
 "metadata": {
  "kernelspec": {
   "display_name": "Python 3",
   "language": "python",
   "name": "python3"
  },
  "language_info": {
   "codemirror_mode": {
    "name": "ipython",
    "version": 3
   },
   "file_extension": ".py",
   "mimetype": "text/x-python",
   "name": "python",
   "nbconvert_exporter": "python",
   "pygments_lexer": "ipython3",
   "version": "3.8.5"
  }
 },
 "nbformat": 4,
 "nbformat_minor": 4
}
