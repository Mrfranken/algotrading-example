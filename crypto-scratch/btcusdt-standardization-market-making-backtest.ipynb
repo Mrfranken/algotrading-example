{
 "cells": [
  {
   "cell_type": "code",
   "execution_count": 1,
   "metadata": {},
   "outputs": [],
   "source": [
    "import pandas as pd\n",
    "import numpy as np\n",
    "import scipy.stats as stats\n",
    "from sklearn.model_selection import RandomizedSearchCV\n",
    "from numba import njit"
   ]
  },
  {
   "cell_type": "code",
   "execution_count": 2,
   "metadata": {},
   "outputs": [],
   "source": [
    "# Please see process_L2 in https://github.com/nkaz001/data-tardis/blob/master/tardis-process.ipynb\n",
    "#\n",
    "# x[0] price of a level in the order book\n",
    "# x[1] quantity of a level in the order book\n",
    "#\n",
    "# buy = sum(map(lambda x: x[1], filter(lambda x: x[0] > mid * (1 - p), bid.iteritems())))\n",
    "# sell = sum(map(lambda x: x[1], filter(lambda x: x[0] < mid * (1 + p), ask.iteritems())))\n",
    "# imbalance = standardize(buy - sell, 1-day)\n",
    "# \n",
    "# When not considering skew, this strategy does \n",
    "# Buy if imbalance is greater than a given threshold +T\n",
    "# Sell if imbalance is less than a given threshold -T"
   ]
  },
  {
   "cell_type": "code",
   "execution_count": 3,
   "metadata": {},
   "outputs": [],
   "source": [
    "df = pd.read_pickle('btcusdt_data')\n",
    "df.iloc[:, 7:] = (df.iloc[:, 7:] - df.iloc[:, 7:].rolling('1d').mean()) / df.iloc[:, 7:].rolling('1d').std()  # 1-day rolling"
   ]
  },
  {
   "cell_type": "code",
   "execution_count": 4,
   "metadata": {},
   "outputs": [
    {
     "data": {
      "text/plain": [
       "Index(['open', 'high', 'low', 'close', 'volume', 'best_bid', 'best_ask',\n",
       "       '0.5%', '0.75%', '1%', '1.25%', '1.5%', '1.75%', '2%', '2.5%', '3%',\n",
       "       '3.5%', '4%', '4.5%', '5%'],\n",
       "      dtype='object')"
      ]
     },
     "execution_count": 4,
     "metadata": {},
     "output_type": "execute_result"
    }
   ],
   "source": [
    "df.columns"
   ]
  },
  {
   "cell_type": "code",
   "execution_count": 5,
   "metadata": {},
   "outputs": [
    {
     "data": {
      "text/html": [
       "<div>\n",
       "<style scoped>\n",
       "    .dataframe tbody tr th:only-of-type {\n",
       "        vertical-align: middle;\n",
       "    }\n",
       "\n",
       "    .dataframe tbody tr th {\n",
       "        vertical-align: top;\n",
       "    }\n",
       "\n",
       "    .dataframe thead th {\n",
       "        text-align: right;\n",
       "    }\n",
       "</style>\n",
       "<table border=\"1\" class=\"dataframe\">\n",
       "  <thead>\n",
       "    <tr style=\"text-align: right;\">\n",
       "      <th></th>\n",
       "      <th>open</th>\n",
       "      <th>high</th>\n",
       "      <th>low</th>\n",
       "      <th>close</th>\n",
       "      <th>volume</th>\n",
       "      <th>best_bid</th>\n",
       "      <th>best_ask</th>\n",
       "      <th>0.5%</th>\n",
       "      <th>0.75%</th>\n",
       "      <th>1%</th>\n",
       "      <th>1.25%</th>\n",
       "      <th>1.5%</th>\n",
       "      <th>1.75%</th>\n",
       "      <th>2%</th>\n",
       "      <th>2.5%</th>\n",
       "      <th>3%</th>\n",
       "      <th>3.5%</th>\n",
       "      <th>4%</th>\n",
       "      <th>4.5%</th>\n",
       "      <th>5%</th>\n",
       "    </tr>\n",
       "    <tr>\n",
       "      <th>timestamp</th>\n",
       "      <th></th>\n",
       "      <th></th>\n",
       "      <th></th>\n",
       "      <th></th>\n",
       "      <th></th>\n",
       "      <th></th>\n",
       "      <th></th>\n",
       "      <th></th>\n",
       "      <th></th>\n",
       "      <th></th>\n",
       "      <th></th>\n",
       "      <th></th>\n",
       "      <th></th>\n",
       "      <th></th>\n",
       "      <th></th>\n",
       "      <th></th>\n",
       "      <th></th>\n",
       "      <th></th>\n",
       "      <th></th>\n",
       "      <th></th>\n",
       "    </tr>\n",
       "  </thead>\n",
       "  <tbody>\n",
       "    <tr>\n",
       "      <th>2022-08-30 13:16:45</th>\n",
       "      <td>20364.800781</td>\n",
       "      <td>20365.400391</td>\n",
       "      <td>20364.800781</td>\n",
       "      <td>20365.400391</td>\n",
       "      <td>8.278</td>\n",
       "      <td>20365.3</td>\n",
       "      <td>20365.4</td>\n",
       "      <td>-0.541412</td>\n",
       "      <td>0.290287</td>\n",
       "      <td>0.341093</td>\n",
       "      <td>0.231048</td>\n",
       "      <td>-0.500803</td>\n",
       "      <td>-0.750378</td>\n",
       "      <td>-0.909639</td>\n",
       "      <td>-0.721155</td>\n",
       "      <td>-0.938307</td>\n",
       "      <td>-0.993487</td>\n",
       "      <td>-1.014898</td>\n",
       "      <td>-0.970765</td>\n",
       "      <td>-1.040268</td>\n",
       "    </tr>\n",
       "    <tr>\n",
       "      <th>2022-08-30 13:16:50</th>\n",
       "      <td>20365.300781</td>\n",
       "      <td>20365.400391</td>\n",
       "      <td>20365.300781</td>\n",
       "      <td>20365.300781</td>\n",
       "      <td>3.690</td>\n",
       "      <td>20365.3</td>\n",
       "      <td>20365.4</td>\n",
       "      <td>-0.610324</td>\n",
       "      <td>0.249942</td>\n",
       "      <td>0.314904</td>\n",
       "      <td>0.203755</td>\n",
       "      <td>-0.518881</td>\n",
       "      <td>-0.771396</td>\n",
       "      <td>-0.931394</td>\n",
       "      <td>-0.745020</td>\n",
       "      <td>-0.967282</td>\n",
       "      <td>-1.026225</td>\n",
       "      <td>-1.052281</td>\n",
       "      <td>-1.009420</td>\n",
       "      <td>-1.094019</td>\n",
       "    </tr>\n",
       "    <tr>\n",
       "      <th>2022-08-30 13:16:55</th>\n",
       "      <td>20365.300781</td>\n",
       "      <td>20365.300781</td>\n",
       "      <td>20365.099609</td>\n",
       "      <td>20365.199219</td>\n",
       "      <td>8.805</td>\n",
       "      <td>20365.1</td>\n",
       "      <td>20365.2</td>\n",
       "      <td>-0.733156</td>\n",
       "      <td>0.187077</td>\n",
       "      <td>0.332361</td>\n",
       "      <td>0.230061</td>\n",
       "      <td>-0.531132</td>\n",
       "      <td>-0.796108</td>\n",
       "      <td>-0.946130</td>\n",
       "      <td>-0.768331</td>\n",
       "      <td>-0.990003</td>\n",
       "      <td>-1.059549</td>\n",
       "      <td>-1.094898</td>\n",
       "      <td>-1.053234</td>\n",
       "      <td>-1.135031</td>\n",
       "    </tr>\n",
       "    <tr>\n",
       "      <th>2022-08-30 13:17:00</th>\n",
       "      <td>20365.099609</td>\n",
       "      <td>20365.199219</td>\n",
       "      <td>20360.599609</td>\n",
       "      <td>20360.599609</td>\n",
       "      <td>8.127</td>\n",
       "      <td>20361.0</td>\n",
       "      <td>20361.4</td>\n",
       "      <td>-1.132968</td>\n",
       "      <td>0.127404</td>\n",
       "      <td>0.256263</td>\n",
       "      <td>0.212633</td>\n",
       "      <td>-0.569584</td>\n",
       "      <td>-0.843460</td>\n",
       "      <td>-0.993108</td>\n",
       "      <td>-0.828728</td>\n",
       "      <td>-1.102934</td>\n",
       "      <td>-1.190535</td>\n",
       "      <td>-1.225435</td>\n",
       "      <td>-1.223599</td>\n",
       "      <td>-1.276276</td>\n",
       "    </tr>\n",
       "    <tr>\n",
       "      <th>2022-08-30 13:17:05</th>\n",
       "      <td>20360.699219</td>\n",
       "      <td>20360.699219</td>\n",
       "      <td>20360.099609</td>\n",
       "      <td>20360.099609</td>\n",
       "      <td>17.513</td>\n",
       "      <td>20360.1</td>\n",
       "      <td>20360.2</td>\n",
       "      <td>-0.461476</td>\n",
       "      <td>0.520985</td>\n",
       "      <td>0.567078</td>\n",
       "      <td>0.429837</td>\n",
       "      <td>0.125261</td>\n",
       "      <td>-0.703878</td>\n",
       "      <td>-0.845615</td>\n",
       "      <td>-0.683261</td>\n",
       "      <td>-0.885783</td>\n",
       "      <td>-0.984887</td>\n",
       "      <td>-0.986643</td>\n",
       "      <td>-0.972758</td>\n",
       "      <td>-1.068452</td>\n",
       "    </tr>\n",
       "    <tr>\n",
       "      <th>...</th>\n",
       "      <td>...</td>\n",
       "      <td>...</td>\n",
       "      <td>...</td>\n",
       "      <td>...</td>\n",
       "      <td>...</td>\n",
       "      <td>...</td>\n",
       "      <td>...</td>\n",
       "      <td>...</td>\n",
       "      <td>...</td>\n",
       "      <td>...</td>\n",
       "      <td>...</td>\n",
       "      <td>...</td>\n",
       "      <td>...</td>\n",
       "      <td>...</td>\n",
       "      <td>...</td>\n",
       "      <td>...</td>\n",
       "      <td>...</td>\n",
       "      <td>...</td>\n",
       "      <td>...</td>\n",
       "      <td>...</td>\n",
       "    </tr>\n",
       "    <tr>\n",
       "      <th>2022-08-31 23:59:40</th>\n",
       "      <td>20047.300781</td>\n",
       "      <td>20047.400391</td>\n",
       "      <td>20047.300781</td>\n",
       "      <td>20047.300781</td>\n",
       "      <td>22.341</td>\n",
       "      <td>20047.3</td>\n",
       "      <td>20047.4</td>\n",
       "      <td>-0.077314</td>\n",
       "      <td>0.567482</td>\n",
       "      <td>0.646206</td>\n",
       "      <td>1.111399</td>\n",
       "      <td>0.920229</td>\n",
       "      <td>1.171202</td>\n",
       "      <td>1.033650</td>\n",
       "      <td>1.512420</td>\n",
       "      <td>1.568157</td>\n",
       "      <td>1.161733</td>\n",
       "      <td>1.185406</td>\n",
       "      <td>1.464893</td>\n",
       "      <td>1.470008</td>\n",
       "    </tr>\n",
       "    <tr>\n",
       "      <th>2022-08-31 23:59:45</th>\n",
       "      <td>20047.400391</td>\n",
       "      <td>20047.400391</td>\n",
       "      <td>20047.300781</td>\n",
       "      <td>20047.400391</td>\n",
       "      <td>6.532</td>\n",
       "      <td>20047.3</td>\n",
       "      <td>20047.4</td>\n",
       "      <td>-0.180741</td>\n",
       "      <td>0.505139</td>\n",
       "      <td>0.609005</td>\n",
       "      <td>1.081004</td>\n",
       "      <td>0.877830</td>\n",
       "      <td>1.117341</td>\n",
       "      <td>0.989715</td>\n",
       "      <td>1.471543</td>\n",
       "      <td>1.526153</td>\n",
       "      <td>1.114379</td>\n",
       "      <td>1.129760</td>\n",
       "      <td>1.401439</td>\n",
       "      <td>1.399201</td>\n",
       "    </tr>\n",
       "    <tr>\n",
       "      <th>2022-08-31 23:59:50</th>\n",
       "      <td>20047.400391</td>\n",
       "      <td>20047.400391</td>\n",
       "      <td>20043.800781</td>\n",
       "      <td>20045.500000</td>\n",
       "      <td>23.227</td>\n",
       "      <td>20045.5</td>\n",
       "      <td>20045.6</td>\n",
       "      <td>-0.141483</td>\n",
       "      <td>0.561921</td>\n",
       "      <td>0.707107</td>\n",
       "      <td>1.168237</td>\n",
       "      <td>0.915423</td>\n",
       "      <td>1.135240</td>\n",
       "      <td>1.031095</td>\n",
       "      <td>1.499576</td>\n",
       "      <td>1.545091</td>\n",
       "      <td>1.130974</td>\n",
       "      <td>1.145754</td>\n",
       "      <td>1.424533</td>\n",
       "      <td>1.428034</td>\n",
       "    </tr>\n",
       "    <tr>\n",
       "      <th>2022-08-31 23:59:55</th>\n",
       "      <td>20045.599609</td>\n",
       "      <td>20045.599609</td>\n",
       "      <td>20043.900391</td>\n",
       "      <td>20044.000000</td>\n",
       "      <td>10.184</td>\n",
       "      <td>20043.9</td>\n",
       "      <td>20044.0</td>\n",
       "      <td>-0.139688</td>\n",
       "      <td>0.608917</td>\n",
       "      <td>0.815484</td>\n",
       "      <td>1.178918</td>\n",
       "      <td>0.966611</td>\n",
       "      <td>1.150313</td>\n",
       "      <td>1.077834</td>\n",
       "      <td>1.496036</td>\n",
       "      <td>1.543317</td>\n",
       "      <td>1.121772</td>\n",
       "      <td>1.141537</td>\n",
       "      <td>1.411854</td>\n",
       "      <td>1.399896</td>\n",
       "    </tr>\n",
       "    <tr>\n",
       "      <th>2022-09-01 00:00:00</th>\n",
       "      <td>20044.000000</td>\n",
       "      <td>20044.000000</td>\n",
       "      <td>20041.400391</td>\n",
       "      <td>20041.500000</td>\n",
       "      <td>29.477</td>\n",
       "      <td>20041.4</td>\n",
       "      <td>20041.5</td>\n",
       "      <td>-0.256288</td>\n",
       "      <td>0.683307</td>\n",
       "      <td>0.802301</td>\n",
       "      <td>1.179402</td>\n",
       "      <td>1.007626</td>\n",
       "      <td>1.123793</td>\n",
       "      <td>1.079511</td>\n",
       "      <td>1.488129</td>\n",
       "      <td>1.532131</td>\n",
       "      <td>1.104015</td>\n",
       "      <td>1.120999</td>\n",
       "      <td>1.372676</td>\n",
       "      <td>1.374052</td>\n",
       "    </tr>\n",
       "  </tbody>\n",
       "</table>\n",
       "<p>25000 rows × 20 columns</p>\n",
       "</div>"
      ],
      "text/plain": [
       "                             open          high           low         close  \\\n",
       "timestamp                                                                     \n",
       "2022-08-30 13:16:45  20364.800781  20365.400391  20364.800781  20365.400391   \n",
       "2022-08-30 13:16:50  20365.300781  20365.400391  20365.300781  20365.300781   \n",
       "2022-08-30 13:16:55  20365.300781  20365.300781  20365.099609  20365.199219   \n",
       "2022-08-30 13:17:00  20365.099609  20365.199219  20360.599609  20360.599609   \n",
       "2022-08-30 13:17:05  20360.699219  20360.699219  20360.099609  20360.099609   \n",
       "...                           ...           ...           ...           ...   \n",
       "2022-08-31 23:59:40  20047.300781  20047.400391  20047.300781  20047.300781   \n",
       "2022-08-31 23:59:45  20047.400391  20047.400391  20047.300781  20047.400391   \n",
       "2022-08-31 23:59:50  20047.400391  20047.400391  20043.800781  20045.500000   \n",
       "2022-08-31 23:59:55  20045.599609  20045.599609  20043.900391  20044.000000   \n",
       "2022-09-01 00:00:00  20044.000000  20044.000000  20041.400391  20041.500000   \n",
       "\n",
       "                     volume  best_bid  best_ask      0.5%     0.75%        1%  \\\n",
       "timestamp                                                                       \n",
       "2022-08-30 13:16:45   8.278   20365.3   20365.4 -0.541412  0.290287  0.341093   \n",
       "2022-08-30 13:16:50   3.690   20365.3   20365.4 -0.610324  0.249942  0.314904   \n",
       "2022-08-30 13:16:55   8.805   20365.1   20365.2 -0.733156  0.187077  0.332361   \n",
       "2022-08-30 13:17:00   8.127   20361.0   20361.4 -1.132968  0.127404  0.256263   \n",
       "2022-08-30 13:17:05  17.513   20360.1   20360.2 -0.461476  0.520985  0.567078   \n",
       "...                     ...       ...       ...       ...       ...       ...   \n",
       "2022-08-31 23:59:40  22.341   20047.3   20047.4 -0.077314  0.567482  0.646206   \n",
       "2022-08-31 23:59:45   6.532   20047.3   20047.4 -0.180741  0.505139  0.609005   \n",
       "2022-08-31 23:59:50  23.227   20045.5   20045.6 -0.141483  0.561921  0.707107   \n",
       "2022-08-31 23:59:55  10.184   20043.9   20044.0 -0.139688  0.608917  0.815484   \n",
       "2022-09-01 00:00:00  29.477   20041.4   20041.5 -0.256288  0.683307  0.802301   \n",
       "\n",
       "                        1.25%      1.5%     1.75%        2%      2.5%  \\\n",
       "timestamp                                                               \n",
       "2022-08-30 13:16:45  0.231048 -0.500803 -0.750378 -0.909639 -0.721155   \n",
       "2022-08-30 13:16:50  0.203755 -0.518881 -0.771396 -0.931394 -0.745020   \n",
       "2022-08-30 13:16:55  0.230061 -0.531132 -0.796108 -0.946130 -0.768331   \n",
       "2022-08-30 13:17:00  0.212633 -0.569584 -0.843460 -0.993108 -0.828728   \n",
       "2022-08-30 13:17:05  0.429837  0.125261 -0.703878 -0.845615 -0.683261   \n",
       "...                       ...       ...       ...       ...       ...   \n",
       "2022-08-31 23:59:40  1.111399  0.920229  1.171202  1.033650  1.512420   \n",
       "2022-08-31 23:59:45  1.081004  0.877830  1.117341  0.989715  1.471543   \n",
       "2022-08-31 23:59:50  1.168237  0.915423  1.135240  1.031095  1.499576   \n",
       "2022-08-31 23:59:55  1.178918  0.966611  1.150313  1.077834  1.496036   \n",
       "2022-09-01 00:00:00  1.179402  1.007626  1.123793  1.079511  1.488129   \n",
       "\n",
       "                           3%      3.5%        4%      4.5%        5%  \n",
       "timestamp                                                              \n",
       "2022-08-30 13:16:45 -0.938307 -0.993487 -1.014898 -0.970765 -1.040268  \n",
       "2022-08-30 13:16:50 -0.967282 -1.026225 -1.052281 -1.009420 -1.094019  \n",
       "2022-08-30 13:16:55 -0.990003 -1.059549 -1.094898 -1.053234 -1.135031  \n",
       "2022-08-30 13:17:00 -1.102934 -1.190535 -1.225435 -1.223599 -1.276276  \n",
       "2022-08-30 13:17:05 -0.885783 -0.984887 -0.986643 -0.972758 -1.068452  \n",
       "...                       ...       ...       ...       ...       ...  \n",
       "2022-08-31 23:59:40  1.568157  1.161733  1.185406  1.464893  1.470008  \n",
       "2022-08-31 23:59:45  1.526153  1.114379  1.129760  1.401439  1.399201  \n",
       "2022-08-31 23:59:50  1.545091  1.130974  1.145754  1.424533  1.428034  \n",
       "2022-08-31 23:59:55  1.543317  1.121772  1.141537  1.411854  1.399896  \n",
       "2022-09-01 00:00:00  1.532131  1.104015  1.120999  1.372676  1.374052  \n",
       "\n",
       "[25000 rows x 20 columns]"
      ]
     },
     "execution_count": 5,
     "metadata": {},
     "output_type": "execute_result"
    }
   ],
   "source": [
    "df.iloc[-25000:]"
   ]
  },
  {
   "cell_type": "code",
   "execution_count": 6,
   "metadata": {},
   "outputs": [],
   "source": [
    "@njit\n",
    "def predict_njit(fee_, A, B, half_spread, max_position, X, imbalance):\n",
    "    tick_size = 0.01\n",
    "    running_qty = 0\n",
    "    static_equity = 0\n",
    "    fee = 0\n",
    "    equity = []\n",
    "    running_qty_ = []\n",
    "    order_qty = 10000\n",
    "    order_qty_btc = 0\n",
    "    new_bid = np.nan\n",
    "    new_ask = np.nan\n",
    "    high = 1\n",
    "    low = 2\n",
    "    close = 3\n",
    "    volume = 4\n",
    "    best_bid = 5\n",
    "    best_ask = 6\n",
    "    for row in X:\n",
    "        # Check if the orders are filled:\n",
    "        # the bid order is considered filled if a trade happened below the order price.\n",
    "        # the ask order is considered filled if a trade happened above the order price.\n",
    "        # \n",
    "        #if np.isfinite(new_bid) \\\n",
    "        #    and (int(round(new_bid / tick_size)) < int(round(row[low] / tick_size)) or int(round(new_bid / tick_size) >= row[best_ask])) \\\n",
    "        #    and row[volume] > 0:\n",
    "        if np.isfinite(new_bid) \\\n",
    "            and int(round(new_bid / tick_size)) > int(round(row[low] / tick_size)) \\\n",
    "            and row[volume] > 0:\n",
    "            running_qty += order_qty_btc\n",
    "            static_equity -= order_qty_btc * new_bid\n",
    "            fee += order_qty_btc * new_bid * fee_    \n",
    "        #if np.isfinite(new_ask) \\\n",
    "        #    and (int(round(new_ask / tick_size)) < int(round(row[high] / tick_size)) or int(round(new_ask / tick_size) <= row[best_bid])) \\\n",
    "        #    and row[volume] > 0:\n",
    "        if np.isfinite(new_ask) \\\n",
    "            and int(round(new_ask / tick_size)) < int(round(row[high] / tick_size)) \\\n",
    "            and row[volume] > 0:\n",
    "            running_qty -= order_qty_btc\n",
    "            static_equity += order_qty_btc * new_ask\n",
    "            fee += order_qty_btc * new_ask * fee_\n",
    "        equity.append(static_equity + running_qty * row[close] - fee)\n",
    "        running_qty_.append(running_qty)\n",
    "        x = running_qty * row[close] # in $\n",
    "        skew = B * x / max_position * -1\n",
    "        quote_mid_price = row[close] + A * row[imbalance] + skew\n",
    "        # Limit the price of orders to best bid/ask in order not to take liquidity. (Due to fee)\n",
    "        new_bid = np.minimum(np.minimum(np.round(quote_mid_price * (1 - half_spread) / tick_size) * tick_size, row[close] - tick_size), row[best_bid])\n",
    "        new_ask = np.maximum(np.maximum(np.round(quote_mid_price * (1 + half_spread) / tick_size) * tick_size, row[close] + tick_size), row[best_ask])\n",
    "        order_qty_btc = np.maximum(np.round(order_qty / row[close], 3), 0.001)\n",
    "        # The maximum position size is fixed in Dollar.\n",
    "        if x > max_position:\n",
    "            new_bid = np.nan\n",
    "        if x < -max_position:\n",
    "            new_ask = np.nan\n",
    "    return equity, running_qty_\n",
    "\n",
    "class Backtest:\n",
    "    def __init__(self, fee=None, max_position=None, A=None, B=None, half_spread=None, imbalance=None):\n",
    "        self.fee = fee\n",
    "        self.max_position = max_position\n",
    "        self.A = A\n",
    "        self.B = B\n",
    "        self.half_spread = half_spread\n",
    "        self.imbalance = imbalance\n",
    "        \n",
    "    def set_params(self, A, B, half_spread, imbalance):\n",
    "        self.A = A\n",
    "        self.B = B\n",
    "        self.half_spread = half_spread\n",
    "        self.imbalance = imbalance\n",
    "        return self\n",
    "        \n",
    "    def get_params(self, deep=True):\n",
    "        return { 'fee': self.fee, 'max_position': self.max_position, 'A': self.A, 'B': self.B, 'half_spread': self.half_spread, 'imbalance': self.imbalance }\n",
    "        \n",
    "    def fit(self, X, y=None):\n",
    "        return self\n",
    "    \n",
    "    def predict(self, X):\n",
    "        equity, running_qty = predict_njit(self.fee, self.A, self.B, self.half_spread, self.max_position, X, self.imbalance)\n",
    "        return equity, running_qty\n",
    "    \n",
    "    def score(self, X):\n",
    "        equity, _ = self.predict(X)\n",
    "        returns = (pd.Series(equity).diff() / self.max_position).fillna(0)\n",
    "#         bm_returns = pd.Series(X[:, 3]).pct_change().fillna(0)\n",
    "#         returns_ = returns - bm_returns\n",
    "        return np.divide(returns.mean(), returns.std())"
   ]
  },
  {
   "cell_type": "code",
   "execution_count": 7,
   "metadata": {},
   "outputs": [],
   "source": [
    "train = df[(df.index >= '2021-1-1') & (df.index < '2022-1-1')]\n",
    "valid = df[df.index < '2021-1-1']"
   ]
  },
  {
   "cell_type": "code",
   "execution_count": 8,
   "metadata": {},
   "outputs": [
    {
     "name": "stdout",
     "output_type": "stream",
     "text": [
      "Fitting 1 folds for each of 1000 candidates, totalling 1000 fits\n"
     ]
    },
    {
     "data": {
      "text/plain": [
       "RandomizedSearchCV(cv=[(array([      0,       1,       2, ..., 6307209, 6307210, 6307211]),\n",
       "                        array([      0,       1,       2, ..., 6307209, 6307210, 6307211]))],\n",
       "                   estimator=<__main__.Backtest object at 0x7fe6a22d3f90>,\n",
       "                   n_iter=1000, n_jobs=8,\n",
       "                   param_distributions={'A': <scipy.stats._distn_infrastructure.rv_frozen object at 0x7fe6a22d3a50>,\n",
       "                                        'B': <scipy.stats._distn_infrastructure.rv_frozen object at 0x7fe69dadd0d0>,\n",
       "                                        'half_spread': <scipy.stats._distn_infrastructure.rv_frozen object at 0x7fe69dadd450>,\n",
       "                                        'imbalance': array([ 7,  8,  9, 10, 11, 12, 13, 14, 15, 16, 17, 18])},\n",
       "                   verbose=1)"
      ]
     },
     "execution_count": 8,
     "metadata": {},
     "output_type": "execute_result"
    }
   ],
   "source": [
    "param_dist = { 'A': stats.uniform(1, 100), 'B': stats.uniform(1, 100), 'half_spread': stats.uniform(0, 0.001), 'imbalance': np.arange(7, 19) }\n",
    "search = RandomizedSearchCV(Backtest(0.0002, 1000000),\n",
    "                            cv=[(np.arange(len(train)), np.arange(len(train)))],\n",
    "                            param_distributions=param_dist,\n",
    "                            verbose=1,\n",
    "                            n_iter=1000,\n",
    "                            n_jobs=8)\n",
    "search.fit(train.values)"
   ]
  },
  {
   "cell_type": "code",
   "execution_count": 9,
   "metadata": {},
   "outputs": [
    {
     "data": {
      "text/plain": [
       "<__main__.Backtest at 0x7fe69da6ead0>"
      ]
     },
     "execution_count": 9,
     "metadata": {},
     "output_type": "execute_result"
    }
   ],
   "source": [
    "# v2.4 params. Feb. 15, 2022\n",
    "search.best_params_ = {\n",
    "    'A': 34.79953363189946,\n",
    "    'B': 81.73462819589255,\n",
    "    'half_spread': 0.000987752995703277,\n",
    "    'imbalance': 12\n",
    "}\n",
    "search.best_estimator_.set_params(**search.best_params_)"
   ]
  },
  {
   "cell_type": "code",
   "execution_count": 10,
   "metadata": {},
   "outputs": [
    {
     "data": {
      "text/plain": [
       "{'A': 34.79953363189946,\n",
       " 'B': 81.73462819589255,\n",
       " 'half_spread': 0.000987752995703277,\n",
       " 'imbalance': 12}"
      ]
     },
     "execution_count": 10,
     "metadata": {},
     "output_type": "execute_result"
    }
   ],
   "source": [
    "search.best_params_"
   ]
  },
  {
   "cell_type": "code",
   "execution_count": 11,
   "metadata": {},
   "outputs": [
    {
     "data": {
      "text/plain": [
       "0.001288157730664235"
      ]
     },
     "execution_count": 11,
     "metadata": {},
     "output_type": "execute_result"
    }
   ],
   "source": [
    "search.best_estimator_.score(train.values)"
   ]
  },
  {
   "cell_type": "code",
   "execution_count": 12,
   "metadata": {},
   "outputs": [],
   "source": [
    "equity, running_qty = search.best_estimator_.predict(train.values)\n",
    "equity = pd.Series(equity, index=train.index)\n",
    "running_qty = pd.Series(running_qty, index=train.index)"
   ]
  },
  {
   "cell_type": "code",
   "execution_count": 13,
   "metadata": {},
   "outputs": [
    {
     "data": {
      "text/plain": [
       "<AxesSubplot:xlabel='timestamp'>"
      ]
     },
     "execution_count": 13,
     "metadata": {},
     "output_type": "execute_result"
    },
    {
     "data": {
      "image/png": "[encoded data removed]",
      "text/plain": [
       "<Figure size 432x288 with 1 Axes>"
      ]
     },
     "metadata": {
      "needs_background": "light"
     },
     "output_type": "display_data"
    }
   ],
   "source": [
    "equity.plot()"
   ]
  },
  {
   "cell_type": "code",
   "execution_count": 14,
   "metadata": {},
   "outputs": [
    {
     "data": {
      "text/plain": [
       "<AxesSubplot:xlabel='timestamp'>"
      ]
     },
     "execution_count": 14,
     "metadata": {},
     "output_type": "execute_result"
    },
    {
     "data": {
      "image/png": "[encoded data removed]",
      "text/plain": [
       "<Figure size 432x288 with 1 Axes>"
      ]
     },
     "metadata": {
      "needs_background": "light"
     },
     "output_type": "display_data"
    }
   ],
   "source": [
    "train['close'].plot()"
   ]
  },
  {
   "cell_type": "code",
   "execution_count": 15,
   "metadata": {},
   "outputs": [
    {
     "data": {
      "text/plain": [
       "<AxesSubplot:xlabel='timestamp'>"
      ]
     },
     "execution_count": 15,
     "metadata": {},
     "output_type": "execute_result"
    },
    {
     "data": {
      "image/png": "[encoded data removed]",
      "text/plain": [
       "<Figure size 432x288 with 1 Axes>"
      ]
     },
     "metadata": {
      "needs_background": "light"
     },
     "output_type": "display_data"
    }
   ],
   "source": [
    "running_qty.plot()"
   ]
  },
  {
   "cell_type": "code",
   "execution_count": 16,
   "metadata": {},
   "outputs": [],
   "source": [
    "def calc_cagr(begin, final, years):\n",
    "    if final < 0:\n",
    "        return (-1) * (((abs(final) + 2 * begin) / begin) ** (1 / years) - 1)\n",
    "    else:\n",
    "        return (final / begin) ** (1 / years) - 1"
   ]
  },
  {
   "cell_type": "code",
   "execution_count": 17,
   "metadata": {},
   "outputs": [
    {
     "name": "stdout",
     "output_type": "stream",
     "text": [
      "Start date            2021-01-01\n",
      "End date              2021-12-31\n",
      "Time period (days)           364\n",
      "Sharpe Ratio            4.049701\n",
      "CAGR                    1.411501\n",
      "Max Daily Drawdown      0.147993\n",
      "dtype: object\n"
     ]
    },
    {
     "data": {
      "text/plain": [
       "<AxesSubplot:>"
      ]
     },
     "execution_count": 17,
     "metadata": {},
     "output_type": "execute_result"
    },
    {
     "data": {
      "image/png": "[encoded data removed]",
      "text/plain": [
       "<Figure size 432x288 with 1 Axes>"
      ]
     },
     "metadata": {
      "needs_background": "light"
     },
     "output_type": "display_data"
    }
   ],
   "source": [
    "returns = equity.resample('1d').last().diff() / search.best_estimator_.max_position\n",
    "# bm_returns = train['close'].resample('1d').last().pct_change()\n",
    "# returns_ = returns - bm_returns\n",
    "returns_ = returns\n",
    "sr = np.divide(returns_.mean(), returns_.std()) * np.sqrt(365)\n",
    "\n",
    "equity_1d = equity.resample('1d').last()\n",
    "Roll_Max = equity_1d.cummax()\n",
    "Daily_Drawdown = (equity_1d - Roll_Max) / search.best_estimator_.max_position\n",
    "Max_Daily_Drawdown = Daily_Drawdown.cummin()\n",
    "\n",
    "period = (equity.index[-1] - equity.index[0]).days\n",
    "\n",
    "print(pd.Series({\n",
    "    'Start date': equity.index[0].strftime('%Y-%m-%d'),\n",
    "    'End date': equity.index[-1].strftime('%Y-%m-%d'),\n",
    "    'Time period (days)': period,\n",
    "    'Sharpe Ratio': sr,\n",
    "    'CAGR': calc_cagr(search.best_estimator_.max_position, search.best_estimator_.max_position + equity[-1], period / 365),\n",
    "    'Max Daily Drawdown': -Max_Daily_Drawdown.min(),\n",
    "}))\n",
    "\n",
    "returns.hist(bins=20)"
   ]
  },
  {
   "cell_type": "code",
   "execution_count": 18,
   "metadata": {},
   "outputs": [
    {
     "name": "stdout",
     "output_type": "stream",
     "text": [
      "Start date                         2020-06-03\n",
      "End date                           2022-09-01\n",
      "Time period (days)                        819\n",
      "Train period          2021-01-01 - 2021-12-31\n",
      "Valid period          2020-06-03 - 2020-12-31\n",
      "Sharpe ratio                         2.321014\n",
      "CAGR                                 0.527055\n",
      "RRR                                  1.358953\n",
      "Maximum drawdown                     0.387839\n",
      "dtype: object\n"
     ]
    },
    {
     "data": {
      "image/png": "[encoded data removed]",
      "text/plain": [
       "<Figure size 576x576 with 1 Axes>"
      ]
     },
     "metadata": {
      "needs_background": "light"
     },
     "output_type": "display_data"
    }
   ],
   "source": [
    "equity, running_qty = search.best_estimator_.predict(df.values)\n",
    "equity = pd.Series(equity, index=df.index)\n",
    "running_qty = pd.Series(running_qty, index=df.index)\n",
    "\n",
    "\n",
    "returns = equity.resample('1d').last().diff() / search.best_estimator_.max_position\n",
    "#bm_returns = valid['close'].resample('1d').last().pct_change()\n",
    "#returns_ = returns - bm_returns\n",
    "returns_ = returns\n",
    "sr = np.divide(returns_.mean(), returns_.std()) * np.sqrt(365)\n",
    "\n",
    "equity_1d = equity.resample('1d').last()\n",
    "Roll_Max = equity_1d.cummax()\n",
    "Daily_Drawdown = (equity_1d - Roll_Max) / search.best_estimator_.max_position\n",
    "Max_Daily_Drawdown = Daily_Drawdown.cummin()\n",
    "\n",
    "period = (equity.index[-1] - equity.index[0]).days\n",
    "\n",
    "print(pd.Series({\n",
    "    'Start date': equity.index[0].strftime('%Y-%m-%d'),\n",
    "    'End date': equity.index[-1].strftime('%Y-%m-%d'),\n",
    "    'Time period (days)': period,\n",
    "    'Train period': '%s - %s' % (train.index[0].strftime('%Y-%m-%d'), train.index[-1].strftime('%Y-%m-%d')),\n",
    "    'Valid period': '%s - %s' % (valid.index[0].strftime('%Y-%m-%d'), valid.index[-1].strftime('%Y-%m-%d')),\n",
    "    'Sharpe ratio': sr,\n",
    "    'CAGR': calc_cagr(search.best_estimator_.max_position, search.best_estimator_.max_position + equity[-1], period / 365),\n",
    "    'RRR': calc_cagr(search.best_estimator_.max_position, search.best_estimator_.max_position + equity[-1], period / 365) / -Max_Daily_Drawdown.min(),\n",
    "    'Maximum drawdown': -Max_Daily_Drawdown.min(),\n",
    "}))\n",
    "\n",
    "# equity.resample('1d').last().pct_change().hist(bins=20)\n",
    "\n",
    "import matplotlib.pyplot as plt\n",
    "plt.figure(figsize=(8, 8))\n",
    "ax1 = (equity / search.best_estimator_.max_position * 100).plot()\n",
    "ax2 = ((df['close'] / df['close'][0] - 1) * 100).plot()\n",
    "ax1.set_ylabel('Cumulative Returns (%)')\n",
    "ax1.legend([\"Strategy's equity (VIP0 maker fee)\", 'Binance Futures BTCUSDT'])\n",
    "ax1.grid()"
   ]
  },
  {
   "cell_type": "code",
   "execution_count": 19,
   "metadata": {},
   "outputs": [
    {
     "data": {
      "text/plain": [
       "<AxesSubplot:xlabel='timestamp'>"
      ]
     },
     "execution_count": 19,
     "metadata": {},
     "output_type": "execute_result"
    },
    {
     "data": {
      "image/png": "[encoded data removed]",
      "text/plain": [
       "<Figure size 432x288 with 1 Axes>"
      ]
     },
     "metadata": {
      "needs_background": "light"
     },
     "output_type": "display_data"
    }
   ],
   "source": [
    "Daily_Drawdown.plot()"
   ]
  },
  {
   "cell_type": "code",
   "execution_count": 20,
   "metadata": {},
   "outputs": [
    {
     "data": {
      "text/plain": [
       "<AxesSubplot:xlabel='timestamp'>"
      ]
     },
     "execution_count": 20,
     "metadata": {},
     "output_type": "execute_result"
    },
    {
     "data": {
      "image/png": "[encoded data removed]",
      "text/plain": [
       "<Figure size 432x288 with 1 Axes>"
      ]
     },
     "metadata": {
      "needs_background": "light"
     },
     "output_type": "display_data"
    }
   ],
   "source": [
    "(equity / search.best_estimator_.max_position).plot()"
   ]
  },
  {
   "cell_type": "code",
   "execution_count": 21,
   "metadata": {},
   "outputs": [],
   "source": [
    "equity.to_pickle(\"btcusdt-marketmaking-vip0\")"
   ]
  },
  {
   "cell_type": "code",
   "execution_count": 22,
   "metadata": {},
   "outputs": [],
   "source": [
    "# v2.4 params. Feb. 15, 2022\n",
    "search.best_params_ = {\n",
    "    'A': 27.523717761230337,\n",
    "    'B': 73.23408011910584,\n",
    "    'half_spread': 0.0009954163968328592,\n",
    "    'imbalance': 12\n",
    "}\n",
    "search.best_estimator_.set_params(**search.best_params_)\n",
    "search.best_estimator_.fee = 0"
   ]
  },
  {
   "cell_type": "code",
   "execution_count": 23,
   "metadata": {},
   "outputs": [
    {
     "name": "stdout",
     "output_type": "stream",
     "text": [
      "Start date                         2020-06-03\n",
      "End date                           2022-09-01\n",
      "Time period (days)                        819\n",
      "Train period          2021-01-01 - 2021-12-31\n",
      "Valid period          2020-06-03 - 2020-12-31\n",
      "Sharpe ratio                         6.511029\n",
      "CAGR                                 1.066526\n",
      "RRR                                 13.794301\n",
      "Maximum drawdown                     0.077316\n",
      "dtype: object\n"
     ]
    },
    {
     "data": {
      "image/png": "[encoded data removed]",
      "text/plain": [
       "<Figure size 576x576 with 1 Axes>"
      ]
     },
     "metadata": {
      "needs_background": "light"
     },
     "output_type": "display_data"
    }
   ],
   "source": [
    "equity, running_qty = search.best_estimator_.predict(df.values)\n",
    "equity = pd.Series(equity, index=df.index)\n",
    "running_qty = pd.Series(running_qty, index=df.index)\n",
    "\n",
    "\n",
    "returns = equity.resample('1d').last().diff() / search.best_estimator_.max_position\n",
    "#bm_returns = valid['close'].resample('1d').last().pct_change()\n",
    "#returns_ = returns - bm_returns\n",
    "returns_ = returns\n",
    "sr = np.divide(returns_.mean(), returns_.std()) * np.sqrt(365)\n",
    "\n",
    "equity_1d = equity.resample('1d').last()\n",
    "Roll_Max = equity_1d.cummax()\n",
    "Daily_Drawdown = (equity_1d - Roll_Max) / search.best_estimator_.max_position\n",
    "Max_Daily_Drawdown = Daily_Drawdown.cummin()\n",
    "\n",
    "period = (equity.index[-1] - equity.index[0]).days\n",
    "\n",
    "print(pd.Series({\n",
    "    'Start date': equity.index[0].strftime('%Y-%m-%d'),\n",
    "    'End date': equity.index[-1].strftime('%Y-%m-%d'),\n",
    "    'Time period (days)': period,\n",
    "    'Train period': '%s - %s' % (train.index[0].strftime('%Y-%m-%d'), train.index[-1].strftime('%Y-%m-%d')),\n",
    "    'Valid period': '%s - %s' % (valid.index[0].strftime('%Y-%m-%d'), valid.index[-1].strftime('%Y-%m-%d')),\n",
    "    'Sharpe ratio': sr,\n",
    "    'CAGR': calc_cagr(search.best_estimator_.max_position, search.best_estimator_.max_position + equity[-1], period / 365),\n",
    "    'RRR': calc_cagr(search.best_estimator_.max_position, search.best_estimator_.max_position + equity[-1], period / 365) / -Max_Daily_Drawdown.min(),\n",
    "    'Maximum drawdown': -Max_Daily_Drawdown.min(),\n",
    "}))\n",
    "\n",
    "# equity.resample('1d').last().pct_change().hist(bins=20)\n",
    "\n",
    "import matplotlib.pyplot as plt\n",
    "plt.figure(figsize=(8, 8))\n",
    "ax1 = (equity / search.best_estimator_.max_position * 100).plot()\n",
    "ax2 = ((df['close'] / df['close'][0] - 1) * 100).plot()\n",
    "ax1.set_ylabel('Cumulative Returns (%)')\n",
    "ax1.legend([\"Strategy's equity (VIP9 maker fee)\", 'Binance Futures BTCUSDT'])\n",
    "ax1.grid()"
   ]
  },
  {
   "cell_type": "code",
   "execution_count": 24,
   "metadata": {},
   "outputs": [],
   "source": [
    "equity.to_pickle(\"btcusdt-marketmaking-vip9\")"
   ]
  }
 ],
 "metadata": {
  "kernelspec": {
   "display_name": "Python 3",
   "language": "python",
   "name": "python3"
  },
  "language_info": {
   "codemirror_mode": {
    "name": "ipython",
    "version": 3
   },
   "file_extension": ".py",
   "mimetype": "text/x-python",
   "name": "python",
   "nbconvert_exporter": "python",
   "pygments_lexer": "ipython3",
   "version": "3.8.5"
  }
 },
 "nbformat": 4,
 "nbformat_minor": 4
}
